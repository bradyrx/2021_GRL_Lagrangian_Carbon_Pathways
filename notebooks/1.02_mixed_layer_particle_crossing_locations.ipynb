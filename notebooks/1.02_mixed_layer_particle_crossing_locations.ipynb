{
 "cells": [
  {
   "cell_type": "markdown",
   "metadata": {},
   "source": [
    "# 1.02 Mixed Layer Crossing Locations\n",
    "\n",
    "---\n",
    "\n",
    "Author: Riley X. Brady\n",
    "\n",
    "Date: 11/18/2020\n",
    "\n",
    "This notebook pulls in the 19,002 particles that have been identified as those who last cross 1000 m in the ACC (S of 45S and outside of the annual sea ice zone) and then finds the x/y position in which they first cross 200 m following that deep upwelling. These crossing locations are further filtered down into those that cross into 200 m S of 45S and outside of the 75% annual sea ice zone. (N = 12,301)"
   ]
  },
  {
   "cell_type": "code",
   "execution_count": 1,
   "metadata": {},
   "outputs": [],
   "source": [
    "%load_ext lab_black\n",
    "%load_ext autoreload\n",
    "%autoreload 2\n",
    "import numpy as np\n",
    "import xarray as xr\n",
    "\n",
    "from dask.distributed import Client"
   ]
  },
  {
   "cell_type": "code",
   "execution_count": 2,
   "metadata": {},
   "outputs": [
    {
     "name": "stdout",
     "output_type": "stream",
     "text": [
      "xarray: 0.16.1\n",
      "numpy: 1.19.4\n"
     ]
    }
   ],
   "source": [
    "print(f\"xarray: {xr.__version__}\")\n",
    "print(f\"numpy: {np.__version__}\")"
   ]
  },
  {
   "cell_type": "code",
   "execution_count": 3,
   "metadata": {},
   "outputs": [],
   "source": [
    "# This is my TCP client from the `launch_cluster` notebook. I use it\n",
    "# for distributed computing with `dask` on NCAR's machine, Casper.\n",
    "client = Client(\"tcp://...\")"
   ]
  },
  {
   "cell_type": "markdown",
   "metadata": {},
   "source": [
    "**Note**: I loaded in the netCDF file, and chunked it, and then saved it back out as a `zarr` file. This makes `dask` run a lot more efficiently. E.g.,\n",
    "\n",
    "```python\n",
    "ds = xr.open_dataset('../data/southern_ocean_deep_upwelling_particles.nc')\n",
    "ds = ds.chunk({'time': -1, 'nParticles': 'auto'})\n",
    "ds.to_zarr('../data/southern_ocean_deep_upwelling_particles.zarr', consolidated=True)\n",
    "```\n",
    "\n",
    "You could probably chunk the particles into slightly smaller chunks for even faster performance."
   ]
  },
  {
   "cell_type": "code",
   "execution_count": 4,
   "metadata": {},
   "outputs": [],
   "source": [
    "# Load in the `zarr` file, which is pre-chunked and already has been\n",
    "# filtered from the original 1,000,000 particles to the 19,002 that\n",
    "# upwell last across 1000 m S of 45S and outside of the annual sea ice\n",
    "# edge.\n",
    "filepath = \"../data/southern_ocean_deep_upwelling_particles.zarr/\"\n",
    "ds = xr.open_zarr(filepath, consolidated=True)"
   ]
  },
  {
   "cell_type": "code",
   "execution_count": 5,
   "metadata": {},
   "outputs": [],
   "source": [
    "def _compute_idx_of_first_200m_crossing(z):\n",
    "    \"\"\"Find first time particle upwells across 200 m.\n",
    "\n",
    "    z : zLevelParticle\n",
    "    \"\"\"\n",
    "    currentDepth = z\n",
    "    previousDepth = np.roll(z, 1)\n",
    "    previousDepth[0] = 999\n",
    "    cond = (currentDepth >= -200) & (previousDepth < -200)\n",
    "    idx = cond.argmax()\n",
    "    return idx\n",
    "\n",
    "\n",
    "def _compute_idx_of_last_1000m_crossing(z):\n",
    "    \"\"\"Find index of final time particle upwells across 1000 m.\n",
    "\n",
    "    z : zLevelParticle\n",
    "    \"\"\"\n",
    "    currentDepth = z\n",
    "    previousDepth = np.roll(z, 1)\n",
    "    previousDepth[0] = 999  # So we're not dealing with a nan here.\n",
    "    cond = (currentDepth >= -1000) & (previousDepth < -1000)\n",
    "    idx = (\n",
    "        len(cond) - np.flip(cond).argmax() - 1\n",
    "    )  # Finds last location that condition is true.\n",
    "    return idx\n",
    "\n",
    "\n",
    "def compute_xy_of_mixed_layer_crossing(x, y, z):\n",
    "    \"\"\"Find the x, y location of the mixed layer crossing.\n",
    "\n",
    "    First compute the last time it crosses 1000 m, then subset\n",
    "    to time series following that and find its first 200 m\n",
    "    crossing.\n",
    "\n",
    "    x : lonParticle (radians)\n",
    "    y : latParticle (radians)\n",
    "    z : zLevelParticle (m)\n",
    "    \"\"\"\n",
    "    idx_a = _compute_idx_of_last_1000m_crossing(z)\n",
    "    x_subset = x[idx_a - 1 : :]\n",
    "    y_subset = y[idx_a - 1 : :]\n",
    "    z_subset = z[idx_a - 1 : :]\n",
    "    idx_b = _compute_idx_of_first_200m_crossing(z_subset)\n",
    "    lon = np.rad2deg(x_subset[idx_b])\n",
    "    lat = np.rad2deg(y_subset[idx_b])\n",
    "    return np.array([lon, lat])"
   ]
  },
  {
   "cell_type": "markdown",
   "metadata": {},
   "source": [
    "This applies the above functions to find the x/y locations of where the particles first cross 200 m following their last 1000 m crossing."
   ]
  },
  {
   "cell_type": "code",
   "execution_count": 6,
   "metadata": {},
   "outputs": [],
   "source": [
    "result = xr.apply_ufunc(\n",
    "    compute_xy_of_mixed_layer_crossing,\n",
    "    ds.lonParticle,\n",
    "    ds.latParticle,\n",
    "    ds.zLevelParticle,\n",
    "    input_core_dims=[[\"time\"], [\"time\"], [\"time\"]],\n",
    "    vectorize=True,\n",
    "    dask=\"parallelized\",\n",
    "    output_core_dims=[[\"coordinate\"]],\n",
    "    output_dtypes=[float],\n",
    "    dask_gufunc_kwargs={\"output_sizes\": {\"coordinate\": 2}},\n",
    ")"
   ]
  },
  {
   "cell_type": "code",
   "execution_count": 7,
   "metadata": {},
   "outputs": [
    {
     "name": "stdout",
     "output_type": "stream",
     "text": [
      "CPU times: user 9.27 ms, sys: 1.28 ms, total: 10.5 ms\n",
      "Wall time: 1.4 s\n"
     ]
    }
   ],
   "source": [
    "%time crossings = result.compute()"
   ]
  },
  {
   "cell_type": "code",
   "execution_count": 8,
   "metadata": {},
   "outputs": [],
   "source": [
    "crossings = crossings.assign_coords(coordinate=[\"x\", \"y\"])"
   ]
  },
  {
   "cell_type": "markdown",
   "metadata": {},
   "source": [
    "## Filter\n",
    "\n",
    "---\n",
    "\n",
    "Now we filter to our designations for a particle that upwells within the ACC. The original ensemble of 19,002 particles here was already filtered to meet those specifications for the *1000 m upwelling*, but now we need to re-apply them for the 200 m upwelling."
   ]
  },
  {
   "cell_type": "markdown",
   "metadata": {},
   "source": [
    "1. Upwell S of 45S."
   ]
  },
  {
   "cell_type": "code",
   "execution_count": 9,
   "metadata": {},
   "outputs": [],
   "source": [
    "crossings = crossings.where(crossings.sel(coordinate=\"y\") < -45, drop=True)"
   ]
  },
  {
   "cell_type": "markdown",
   "metadata": {},
   "source": [
    "2. Upwell outside of the 75% sea ice present annual climatology."
   ]
  },
  {
   "cell_type": "code",
   "execution_count": 10,
   "metadata": {},
   "outputs": [],
   "source": [
    "# Load in sea ice climatology from Eulerian mesh.\n",
    "sea_ice = xr.open_dataset(\"../data/eulerian_sea_ice_climatology.nc\")[\"icePresent\"].mean(\n",
    "    \"month\"\n",
    ")\n",
    "\n",
    "# Load in mesh info to get lat/lon of grid cells.\n",
    "mesh_info = xr.open_dataset(\"../data/mesh.nc\")\n",
    "mpas_lat = np.rad2deg(mesh_info.latCell)\n",
    "mpas_lon = np.rad2deg(mesh_info.lonCell)\n",
    "\n",
    "# To save some computational cost, only look S of 45S.\n",
    "sea_ice = sea_ice.where(mpas_lat <= -45, drop=True)\n",
    "mpas_lon = mpas_lon.where(mpas_lat <= -45, drop=True)\n",
    "mpas_lat = mpas_lat.where(mpas_lat <= -45, drop=True)"
   ]
  },
  {
   "cell_type": "code",
   "execution_count": 11,
   "metadata": {},
   "outputs": [],
   "source": [
    "def _find_mpas_cell(mpas_lon, mpas_lat, xParticle, yParticle):\n",
    "    \"\"\"Returns the idx of the closest mpas cell to the particle\n",
    "    location.\n",
    "\n",
    "    mpas_lon : Longitude of Eulerian mesh in degrees.\n",
    "    mpas_lat : Latitude of Eulerian mesh in degrees.\n",
    "    xParticle : lonParticle in degrees.\n",
    "    yParticle : latParticle in degrees.\n",
    "    \"\"\"\n",
    "    dx = mpas_lon - xParticle\n",
    "    dy = mpas_lat - yParticle\n",
    "    diff = abs(dx) + abs(dy)\n",
    "    idx = np.nanargmin(diff)\n",
    "    return idx"
   ]
  },
  {
   "cell_type": "code",
   "execution_count": 12,
   "metadata": {},
   "outputs": [],
   "source": [
    "# Chunk particle crossings and MPAS mesh information to make\n",
    "# processing easier.\n",
    "xCross = crossings.sel(coordinate=\"x\").chunk({\"nParticles\": 5000}).persist()\n",
    "yCross = crossings.sel(coordinate=\"y\").chunk({\"nParticles\": 5000}).persist()\n",
    "mpas_lon = mpas_lon.chunk().persist()\n",
    "mpas_lat = mpas_lat.chunk().persist()"
   ]
  },
  {
   "cell_type": "code",
   "execution_count": 13,
   "metadata": {},
   "outputs": [],
   "source": [
    "result = xr.apply_ufunc(\n",
    "    _find_mpas_cell,\n",
    "    mpas_lon,\n",
    "    mpas_lat,\n",
    "    xCross,\n",
    "    yCross,\n",
    "    input_core_dims=[[\"nCells\"], [\"nCells\"], [], []],\n",
    "    vectorize=True,\n",
    "    dask=\"parallelized\",\n",
    "    output_dtypes=[float],\n",
    ")"
   ]
  },
  {
   "cell_type": "code",
   "execution_count": 14,
   "metadata": {},
   "outputs": [
    {
     "name": "stdout",
     "output_type": "stream",
     "text": [
      "CPU times: user 21.5 ms, sys: 2.44 ms, total: 24 ms\n",
      "Wall time: 19.2 s\n"
     ]
    }
   ],
   "source": [
    "# returns the index on the mpas sea ice mesh of where\n",
    "# the particle crossing occurred.\n",
    "%time result = result.compute()"
   ]
  },
  {
   "cell_type": "markdown",
   "metadata": {},
   "source": [
    "Creates a mask for particles that upwell outside of the 75% sea ice present zone."
   ]
  },
  {
   "cell_type": "code",
   "execution_count": 15,
   "metadata": {},
   "outputs": [],
   "source": [
    "outside_of_ice_mask = (sea_ice < 0.75).isel(nCells=result.astype(\"int\"))\n",
    "crossings = crossings.where(outside_of_ice_mask, drop=True)"
   ]
  },
  {
   "cell_type": "code",
   "execution_count": 16,
   "metadata": {},
   "outputs": [],
   "source": [
    "ds = xr.Dataset()\n",
    "ds[\"lon_crossing\"] = crossings.sel(coordinate=\"x\")\n",
    "ds[\"lat_crossing\"] = crossings.sel(coordinate=\"y\")\n",
    "ds.attrs[\n",
    "    \"description\"\n",
    "] = \"x/y locations of first 200m crossing following the *final* 1000m crossing for particles that occur < 45S; reach 200 m following this crossing; and happen outside of the 75% annual sea ice zone. The S of 45S and sea ice mask was re-applied to the 200m crossings.\"\n",
    "ds.to_netcdf(\"../data/postproc/200m.crossing.locations.nc\")"
   ]
  }
 ],
 "metadata": {
  "kernelspec": {
   "display_name": "Python [conda env:miniconda3-brady-carbonpathways]",
   "language": "python",
   "name": "conda-env-miniconda3-brady-carbonpathways-py"
  },
  "language_info": {
   "codemirror_mode": {
    "name": "ipython",
    "version": 3
   },
   "file_extension": ".py",
   "mimetype": "text/x-python",
   "name": "python",
   "nbconvert_exporter": "python",
   "pygments_lexer": "ipython3",
   "version": "3.8.6"
  }
 },
 "nbformat": 4,
 "nbformat_minor": 4
}
