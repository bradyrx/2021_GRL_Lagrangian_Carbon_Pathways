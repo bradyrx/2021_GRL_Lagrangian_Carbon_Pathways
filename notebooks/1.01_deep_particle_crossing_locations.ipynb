{
 "cells": [
  {
   "cell_type": "markdown",
   "metadata": {},
   "source": [
    "# 1.01 Deep Particle Crossing Locations\n",
    "\n",
    "---\n",
    "\n",
    "Author: Riley X. Brady\n",
    "\n",
    "Date: 11/18/2020\n",
    "\n",
    "This notebook pulls in the 19,002 particles that have been identified as those who last cross 1000 m in the ACC (S of 45S and outside of the annual sea ice zone) and finds the x, y location in which they last upwell at 1000 m. These locations are used in subsequent notebooks for filtering and visualization."
   ]
  },
  {
   "cell_type": "code",
   "execution_count": 1,
   "metadata": {},
   "outputs": [],
   "source": [
    "%load_ext lab_black\n",
    "%load_ext autoreload\n",
    "%autoreload 2\n",
    "import numpy as np\n",
    "import xarray as xr\n",
    "\n",
    "from dask.distributed import Client"
   ]
  },
  {
   "cell_type": "code",
   "execution_count": 2,
   "metadata": {},
   "outputs": [
    {
     "name": "stdout",
     "output_type": "stream",
     "text": [
      "xarray: 0.16.1\n",
      "numpy: 1.19.4\n"
     ]
    }
   ],
   "source": [
    "print(f\"xarray: {xr.__version__}\")\n",
    "print(f\"numpy: {np.__version__}\")"
   ]
  },
  {
   "cell_type": "code",
   "execution_count": 3,
   "metadata": {},
   "outputs": [],
   "source": [
    "# This is my TCP client from the `launch_cluster` notebook. I use it\n",
    "# for distributed computing with `dask` on NCAR's machine, Casper.\n",
    "client = Client(\"tcp://...\")"
   ]
  },
  {
   "cell_type": "code",
   "execution_count": 4,
   "metadata": {},
   "outputs": [],
   "source": [
    "# Load in the `zarr` file, which is pre-chunked and already has been\n",
    "# filtered from the original 1,000,000 particles to the 19,002 that\n",
    "# upwell last across 1000 m S of 45S and outside of the annual sea ice\n",
    "# edge.\n",
    "filepath = \"../data/southern_ocean_deep_upwelling_particles.zarr/\"\n",
    "ds = xr.open_zarr(filepath, consolidated=True)"
   ]
  },
  {
   "cell_type": "code",
   "execution_count": 5,
   "metadata": {},
   "outputs": [],
   "source": [
    "def _compute_idx_of_last_1000m_crossing(z):\n",
    "    \"\"\"Find index of final time particle upwells across 1000 m.\n",
    "\n",
    "    z : zLevelParticle\n",
    "    \"\"\"\n",
    "    currentDepth = z\n",
    "    previousDepth = np.roll(z, 1)\n",
    "    previousDepth[0] = 999  # So we're not dealing with a nan here.\n",
    "    cond = (currentDepth >= -1000) & (previousDepth < -1000)\n",
    "    idx = (\n",
    "        len(cond) - np.flip(cond).argmax() - 1\n",
    "    )  # Finds last location that condition is true.\n",
    "    return idx\n",
    "\n",
    "\n",
    "def compute_xy_of_last_crossing(x, y, z):\n",
    "    \"\"\"Convert crossing point into x, y coordinates.\n",
    "\n",
    "    x : lonParticle (radians)\n",
    "    y : latParticle (radians)\n",
    "    z : zLevelParticle (m)\n",
    "    \"\"\"\n",
    "    idx = _compute_idx_of_last_1000m_crossing(z)\n",
    "    lon = np.rad2deg(x[idx])\n",
    "    lat = np.rad2deg(y[idx])\n",
    "    return np.array([lon, lat])"
   ]
  },
  {
   "cell_type": "code",
   "execution_count": 6,
   "metadata": {},
   "outputs": [],
   "source": [
    "ds = ds.chunk({\"time\": -1, \"nParticles\": 6000})\n",
    "x = ds.lonParticle.persist()\n",
    "y = ds.latParticle.persist()\n",
    "z = ds.zLevelParticle.persist()"
   ]
  },
  {
   "cell_type": "code",
   "execution_count": 7,
   "metadata": {},
   "outputs": [],
   "source": [
    "result = xr.apply_ufunc(\n",
    "    compute_xy_of_last_crossing,\n",
    "    x,\n",
    "    y,\n",
    "    z,\n",
    "    input_core_dims=[[\"time\"], [\"time\"], [\"time\"]],\n",
    "    vectorize=True,\n",
    "    dask=\"parallelized\",\n",
    "    output_core_dims=[[\"coordinate\"]],\n",
    "    output_dtypes=[float],\n",
    "    dask_gufunc_kwargs={\"output_sizes\": {\"coordinate\": 2}},\n",
    ")"
   ]
  },
  {
   "cell_type": "code",
   "execution_count": 8,
   "metadata": {},
   "outputs": [
    {
     "name": "stdout",
     "output_type": "stream",
     "text": [
      "CPU times: user 12.4 ms, sys: 4.16 ms, total: 16.5 ms\n",
      "Wall time: 1.29 s\n"
     ]
    }
   ],
   "source": [
    "%time crossings = result.compute()\n",
    "crossings = crossings.assign_coords(coordinate=[\"x\", \"y\"])"
   ]
  },
  {
   "cell_type": "code",
   "execution_count": 9,
   "metadata": {},
   "outputs": [],
   "source": [
    "ds = xr.Dataset()\n",
    "ds[\"lon_crossing\"] = crossings.sel(coordinate=\"x\")\n",
    "ds[\"lat_crossing\"] = crossings.sel(coordinate=\"y\")\n",
    "ds.attrs[\n",
    "    \"description\"\n",
    "] = \"x/y locations of *final* 1000m crossing for particles that occur < 45S; reach 200 m following this crossing; and happen outside of the 75% annual sea ice zone.\"\n",
    "ds.to_netcdf(\"../data/postproc/1000m.crossing.locations.nc\")"
   ]
  }
 ],
 "metadata": {
  "kernelspec": {
   "display_name": "Python [conda env:miniconda3-brady-carbonpathways]",
   "language": "python",
   "name": "conda-env-miniconda3-brady-carbonpathways-py"
  },
  "language_info": {
   "codemirror_mode": {
    "name": "ipython",
    "version": 3
   },
   "file_extension": ".py",
   "mimetype": "text/x-python",
   "name": "python",
   "nbconvert_exporter": "python",
   "pygments_lexer": "ipython3",
   "version": "3.8.6"
  }
 },
 "nbformat": 4,
 "nbformat_minor": 4
}
